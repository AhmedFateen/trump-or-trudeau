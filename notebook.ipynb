{
  "nbformat_minor": 0,
  "metadata": {
    "language_info": {
      "file_extension": ".py",
      "pygments_lexer": "ipython3",
      "mimetype": "text/x-python",
      "name": "python",
      "version": "3.5.2",
      "nbconvert_exporter": "python",
      "codemirror_mode": {
        "name": "ipython",
        "version": 3
      }
    },
    "kernelspec": {
      "name": "python3",
      "language": "python",
      "display_name": "Python 3"
    },
    "colab": {
      "name": "notebook.ipynb",
      "provenance": []
    }
  },
  "cells": [
    {
      "metadata": {
        "run_control": {
          "frozen": true
        },
        "tags": [
          "context"
        ],
        "editable": false,
        "deletable": false,
        "dc": {
          "key": "4"
        },
        "id": "NpRmyjSIX4i8"
      },
      "cell_type": "markdown",
      "source": [
        "## 1. Tweet classification: Trump vs. Trudeau\n",
        "<p>So you think you can classify text? How about tweets? In this notebook, we'll take a dive into the world of social media text classification by investigating how to properly classify tweets from two prominent North American politicians: Donald Trump and Justin Trudeau.</p>\n",
        "<p><img src=\"https://upload.wikimedia.org/wikipedia/commons/thumb/4/47/President_Donald_Trump_and_Prime_Minister_Justin_Trudeau_Joint_Press_Conference%2C_February_13%2C_2017.jpg/800px-President_Donald_Trump_and_Prime_Minister_Justin_Trudeau_Joint_Press_Conference%2C_February_13%2C_2017.jpg\" alt=\"Donald Trump and Justin Trudeau shaking hands.\" height=\"50%\" width=\"50%\"></p>\n",
        "<p><a href=\"https://commons.wikimedia.org/wiki/File:President_Donald_Trump_and_Prime_Minister_Justin_Trudeau_Joint_Press_Conference,_February_13,_2017.jpg\">Photo Credit: Executive Office of the President of the United States</a></p>\n",
        "<p>Tweets pose specific problems to NLP, including the fact they are shorter texts. There are also plenty of platform-specific conventions to give you hassles: mentions, #hashtags, emoji, links and short-hand phrases (ikr?). Can we overcome those challenges and build a useful classifier for these two tweeters? Yes! Let's get started.</p>\n",
        "<p>To begin, we will import all the tools we need from scikit-learn. We will need to properly vectorize our data (<code>CountVectorizer</code> and <code>TfidfVectorizer</code>). And we will also want to import some models, including <code>MultinomialNB</code> from the <code>naive_bayes</code> module, <code>LinearSVC</code> from the <code>svm</code> module and <code>PassiveAggressiveClassifier</code> from the <code>linear_model</code> module. Finally, we'll need <code>sklearn.metrics</code> and <code>train_test_split</code> and <code>GridSearchCV</code> from the <code>model_selection</code> module to evaluate and optimize our model.</p>"
      ]
    },
    {
      "metadata": {
        "dc": {
          "key": "4"
        },
        "trusted": true,
        "tags": [
          "sample_code"
        ],
        "collapsed": true,
        "id": "1KxuuDvaX4jA"
      },
      "outputs": [],
      "execution_count": 17,
      "cell_type": "code",
      "source": [
        "# Set seed for reproducibility\n",
        "import random; random.seed(53)\n",
        "\n",
        "# Import all we need from sklearn\n",
        "from sklearn.feature_extraction.text import CountVectorizer,TfidfVectorizer\n",
        "from sklearn.model_selection import train_test_split\n",
        "from sklearn.naive_bayes import MultinomialNB\n",
        "from sklearn.svm import LinearSVC\n",
        "from sklearn import metrics"
      ]
    },
    {
      "metadata": {
        "run_control": {
          "frozen": true
        },
        "tags": [
          "context"
        ],
        "editable": false,
        "deletable": false,
        "dc": {
          "key": "11"
        },
        "id": "Wu7dJhi5X4jB"
      },
      "cell_type": "markdown",
      "source": [
        "## 2. Transforming our collected data\n",
        "<p>To begin, let's start with a corpus of tweets which were collected in November 2017. They are available in CSV format. We'll use a Pandas DataFrame to help import the data and pass it to scikit-learn for further processing.</p>\n"
      ]
    },
    {
      "metadata": {
        "dc": {
          "key": "11"
        },
        "trusted": true,
        "tags": [
          "sample_code"
        ],
        "collapsed": true,
        "id": "hjd1Ys8oX4jC"
      },
      "outputs": [],
      "execution_count": 18,
      "cell_type": "code",
      "source": [
        "import pandas as pd\n",
        "\n",
        "# Load data\n",
        "tweet_df = pd.read_csv('datasets/tweets.csv')\n",
        "\n",
        "# Create target\n",
        "y = tweet_df.author\n",
        "\n",
        "# Split training and testing data\n",
        "X_train, X_test, y_train, y_test = train_test_split(tweet_df.status,y,random_state=53,test_size=.33)"
      ]
    },
    {
      "metadata": {
        "run_control": {
          "frozen": true
        },
        "tags": [
          "context"
        ],
        "editable": false,
        "deletable": false,
        "dc": {
          "key": "18"
        },
        "id": "NTopmgaHX4jC"
      },
      "cell_type": "markdown",
      "source": [
        "## 3. Vectorize the tweets\n",
        "<p>We have the training and testing data all set up, but we need to create vectorized representations of the tweets in order to apply machine learning.</p>\n",
        "<p>To do so, we will utilize the <code>CountVectorizer</code> and <code>TfidfVectorizer</code> classes which we will first need to fit to the data.</p>\n",
        "<p>Once this is complete, we can start modeling with the new vectorized tweets!</p>"
      ]
    },
    {
      "metadata": {
        "dc": {
          "key": "18"
        },
        "trusted": true,
        "tags": [
          "sample_code"
        ],
        "collapsed": true,
        "id": "JhlhA3zOX4jD"
      },
      "outputs": [],
      "execution_count": 19,
      "cell_type": "code",
      "source": [
        "# Initialize count vectorizer\n",
        "count_vectorizer = CountVectorizer(stop_words='english',min_df=0.05,max_df=0.9)\n",
        "\n",
        "# Create count train and test variables\n",
        "count_train = count_vectorizer.fit_transform(X_train,y_train)\n",
        "count_test = count_vectorizer.transform(X_test)\n",
        "\n",
        "# Initialize tfidf vectorizer\n",
        "tfidf_vectorizer = TfidfVectorizer(stop_words='english',min_df=0.05,max_df=0.9)\n",
        "\n",
        "# Create tfidf train and test variables\n",
        "tfidf_train = tfidf_vectorizer.fit_transform(X_train,y_train)\n",
        "tfidf_test = tfidf_vectorizer.transform(X_test)\n"
      ]
    },
    {
      "metadata": {
        "run_control": {
          "frozen": true
        },
        "tags": [
          "context"
        ],
        "editable": false,
        "deletable": false,
        "dc": {
          "key": "25"
        },
        "id": "I3CCOa4LX4jE"
      },
      "cell_type": "markdown",
      "source": [
        "## 4. Training a multinomial naive Bayes model\n",
        "<p>Now that we have the data in vectorized form, we can train the first model. Investigate using the Multinomial Naive Bayes model with both the <code>CountVectorizer</code> and <code>TfidfVectorizer</code> data. Which do will perform better? How come?</p>\n",
        "<p>To assess the accuracies, we will print the test sets accuracy scores for both models.</p>"
      ]
    },
    {
      "metadata": {
        "dc": {
          "key": "25"
        },
        "trusted": true,
        "tags": [
          "sample_code"
        ],
        "colab": {
          "base_uri": "https://localhost:8080/"
        },
        "id": "criaenY3X4jE",
        "outputId": "1f8646d8-d722-44cd-a909-acf2c9219030"
      },
      "outputs": [
        {
          "output_type": "stream",
          "name": "stdout",
          "text": [
            "NaiveBayes Tfidf Score:  0.803030303030303\n",
            "NaiveBayes Count Score:  0.7954545454545454\n"
          ]
        }
      ],
      "execution_count": 20,
      "cell_type": "code",
      "source": [
        "# Create a MulitnomialNB model\n",
        "tfidf_nb = MultinomialNB()\n",
        "\n",
        "# ... Train your model here ...\n",
        "tfidf_nb.fit(tfidf_train,y_train)\n",
        "\n",
        "# Run predict on your TF-IDF test data to get your predictions\n",
        "tfidf_nb_pred=tfidf_nb.predict(tfidf_test)\n",
        "\n",
        "# Calculate the accuracy of your predictions\n",
        "tfidf_nb_score=metrics.accuracy_score(tfidf_nb_pred,y_test)\n",
        "\n",
        "# Create a MulitnomialNB model\n",
        "count_nb = MultinomialNB()\n",
        "# ... Train your model here ...\n",
        "count_nb.fit(count_train,y_train)\n",
        "\n",
        "# Run predict on your count test data to get your predictions\n",
        "count_nb_pred = count_nb.predict(count_test)\n",
        "\n",
        "# Calculate the accuracy of your predictions\n",
        "count_nb_score = metrics.accuracy_score(count_nb_pred,y_test)\n",
        "\n",
        "print('NaiveBayes Tfidf Score: ', tfidf_nb_score)\n",
        "print('NaiveBayes Count Score: ', count_nb_score)"
      ]
    },
    {
      "metadata": {
        "run_control": {
          "frozen": true
        },
        "tags": [
          "context"
        ],
        "editable": false,
        "deletable": false,
        "dc": {
          "key": "32"
        },
        "id": "T_I42c7DX4jF"
      },
      "cell_type": "markdown",
      "source": [
        "## 5. Evaluating our model using a confusion matrix\n",
        "<p>We see that the TF-IDF model performs better than the count-based approach. Based on what we know from the NLP fundamentals course, why might that be? We know that TF-IDF allows unique tokens to have a greater weight - perhaps tweeters are using specific important words that identify them! Let's continue the investigation.</p>\n",
        "<p>For classification tasks, an accuracy score doesn't tell the whole picture. A better evaluation can be made if we look at the confusion matrix, which shows the number correct and incorrect classifications based on each class. We can use the metrics, True Positives, False Positives, False Negatives, and True Negatives, to determine how well the model performed on a given class. How many times was Trump misclassified as Trudeau?</p>"
      ]
    },
    {
      "metadata": {
        "dc": {
          "key": "32"
        },
        "trusted": true,
        "tags": [
          "sample_code"
        ],
        "colab": {
          "base_uri": "https://localhost:8080/",
          "height": 640
        },
        "id": "7ftN1dRMX4jG",
        "outputId": "508217f0-b2f2-4c97-f15e-3251620ed8db"
      },
      "outputs": [
        {
          "output_type": "stream",
          "name": "stdout",
          "text": [
            "Confusion matrix, without normalization\n",
            "Confusion matrix, without normalization\n"
          ]
        },
        {
          "output_type": "display_data",
          "data": {
            "text/plain": [
              "<Figure size 432x288 with 2 Axes>"
            ],
            "image/png": "[encoded data removed]"
          },
          "metadata": {
            "needs_background": "light"
          }
        },
        {
          "output_type": "display_data",
          "data": {
            "text/plain": [
              "<Figure size 432x288 with 2 Axes>"
            ],
            "image/png": "[encoded data removed]"
          },
          "metadata": {
            "needs_background": "light"
          }
        }
      ],
      "execution_count": 21,
      "cell_type": "code",
      "source": [
        "%matplotlib inline\n",
        "\n",
        "from datasets.helper_functions import plot_confusion_matrix\n",
        "\n",
        "# Calculate the confusion matrices for the tfidf_nb model and count_nb models\n",
        "tfidf_nb_cm = metrics.confusion_matrix(y_test,tfidf_nb_pred,labels=['Donald J. Trump', 'Justin Trudeau'])\n",
        "count_nb_cm = metrics.confusion_matrix(y_test,count_nb_pred,labels=['Donald J. Trump', 'Justin Trudeau'])\n",
        "\n",
        "# Plot the tfidf_nb_cm confusion matrix\n",
        "plot_confusion_matrix(tfidf_nb_cm, title=\"TF-IDF NB Confusion Matrix\", classes=['Donald J. Trump', 'Justin Trudeau'])\n",
        "\n",
        "# Plot the count_nb_cm confusion matrix without overwriting the first plot \n",
        "plot_confusion_matrix(count_nb_cm, title=\"Count NB Confusion Matrix\", figure=1,classes=['Donald J. Trump', 'Justin Trudeau'])"
      ]
    },
    {
      "metadata": {
        "run_control": {
          "frozen": true
        },
        "tags": [
          "context"
        ],
        "editable": false,
        "deletable": false,
        "dc": {
          "key": "39"
        },
        "id": "6tGFX2JsX4jG"
      },
      "cell_type": "markdown",
      "source": [
        "## 6. Trying out another classifier: Linear SVC\n",
        "<p>So the Bayesian model only has one prediction difference between the TF-IDF and count vectorizers -- fairly impressive! Interestingly, there is some confusion when the predicted label is Trump but the actual tweeter is Trudeau. If we were going to use this model, we would want to investigate what tokens are causing the confusion in order to improve the model. </p>\n",
        "<p>Now that we've seen what the Bayesian model can do, how about trying a different approach? <a href=\"https://scikit-learn.org/stable/modules/generated/sklearn.svm.LinearSVC.html\">LinearSVC</a> is another popular choice for text classification. Let's see if using it with the TF-IDF vectors improves the accuracy of the classifier!</p>"
      ]
    },
    {
      "metadata": {
        "dc": {
          "key": "39"
        },
        "trusted": true,
        "tags": [
          "sample_code"
        ],
        "colab": {
          "base_uri": "https://localhost:8080/",
          "height": 346
        },
        "id": "Rm1YZnpaX4jH",
        "outputId": "5ed580c8-2d92-45c1-f1e2-4a9745ad20e5"
      },
      "outputs": [
        {
          "output_type": "stream",
          "name": "stdout",
          "text": [
            "LinearSVC Score:   0.841\n",
            "Confusion matrix, without normalization\n"
          ]
        },
        {
          "output_type": "display_data",
          "data": {
            "text/plain": [
              "<Figure size 432x288 with 2 Axes>"
            ],
            "image/png": "[encoded data removed]"
          },
          "metadata": {
            "needs_background": "light"
          }
        }
      ],
      "execution_count": 22,
      "cell_type": "code",
      "source": [
        "# Create a LinearSVM model\n",
        "tfidf_svc = LinearSVC()\n",
        "\n",
        "# ... Train your model here ...\n",
        "tfidf_svc.fit(tfidf_train,y_train)\n",
        "\n",
        "# Run predict on your tfidf test data to get your predictions\n",
        "tfidf_svc_pred = tfidf_svc.predict(tfidf_test)\n",
        "\n",
        "# Calculate your accuracy using the metrics module\n",
        "tfidf_svc_score = metrics.accuracy_score(tfidf_svc_pred,y_test)\n",
        "\n",
        "print(\"LinearSVC Score:   %0.3f\" % tfidf_svc_score)\n",
        "\n",
        "# Calculate the confusion matrices for the tfidf_svc model\n",
        "svc_cm = metrics.confusion_matrix(y_test,tfidf_svc_pred,labels=['Donald J. Trump', 'Justin Trudeau'])\n",
        "\n",
        "# Plot the confusion matrix using the plot_confusion_matrix function\n",
        "plot_confusion_matrix(svc_cm, classes=['Donald J. Trump', 'Justin Trudeau'], title=\"TF-IDF LinearSVC Confusion Matrix\")"
      ]
    },
    {
      "metadata": {
        "run_control": {
          "frozen": true
        },
        "tags": [
          "context"
        ],
        "editable": false,
        "deletable": false,
        "dc": {
          "key": "46"
        },
        "id": "3dTPoWKVX4jH"
      },
      "cell_type": "markdown",
      "source": [
        "## 7. Introspecting our top model\n",
        "<p>Wow, the LinearSVC model is even better than the Multinomial Bayesian one. Nice work! Via the confusion matrix we can see that, although there is still some confusion where Trudeau's tweets are classified as Trump's, the False Positive rate is better than the previous model. So, we have a performant model, right? </p>\n",
        "<p>We might be able to continue tweaking and improving all of the previous models by learning more about parameter optimization or applying some better preprocessing of the tweets. </p>\n",
        "<p>Now let's see what the model has learned. Using the LinearSVC Classifier with two classes (Trump and Trudeau) we can sort the features (tokens), by their weight and see the most important tokens for both Trump and Trudeau. What are the most Trump-like or Trudeau-like words? Did the model learn something useful to distinguish between these two men? </p>"
      ]
    },
    {
      "metadata": {
        "dc": {
          "key": "46"
        },
        "trusted": true,
        "tags": [
          "sample_code"
        ],
        "colab": {
          "base_uri": "https://localhost:8080/",
          "height": 697
        },
        "id": "SRRfbmv2X4jH",
        "outputId": "c633537d-c506-4ce8-9a5f-982800e0aa21"
      },
      "outputs": [
        {
          "output_type": "stream",
          "name": "stderr",
          "text": [
            "/usr/local/lib/python3.7/dist-packages/sklearn/utils/deprecation.py:87: FutureWarning: Function get_feature_names is deprecated; get_feature_names is deprecated in 1.0 and will be removed in 1.2. Please use get_feature_names_out instead.\n",
            "  warnings.warn(msg, category=FutureWarning)\n"
          ]
        },
        {
          "output_type": "display_data",
          "data": {
            "text/plain": [
              "<Figure size 1080x360 with 1 Axes>"
            ],
            "image/png": "[encoded data removed]"
          },
          "metadata": {
            "needs_background": "light"
          }
        },
        {
          "output_type": "stream",
          "name": "stdout",
          "text": [
            "[(-0.3959786943301181, 'great'),\n",
            " (-0.24645748973158424, 'thank'),\n",
            " (0.06257409369222804, 'president'),\n",
            " (0.4821249537885923, 'https'),\n",
            " (0.596046445850425, 'vietnam'),\n",
            " (0.6155677223405374, 'amp'),\n",
            " (0.7725813564196958, 'le'),\n",
            " (0.8213765532209747, 'les'),\n",
            " (0.8286618959348149, 'today'),\n",
            " (1.186904761821955, 'du'),\n",
            " (1.3143515917948667, 'pour'),\n",
            " (1.412259318404202, 'nous'),\n",
            " (1.4612665347367877, 'rt'),\n",
            " (1.4991722491136221, 'et'),\n",
            " (1.5056455223382106, 'la'),\n",
            " (1.656793982385686, 'canada')]\n"
          ]
        }
      ],
      "execution_count": 23,
      "cell_type": "code",
      "source": [
        "from datasets.helper_functions import plot_and_return_top_features\n",
        "\n",
        "# Import pprint from pprint\n",
        "from pprint import pprint\n",
        "\n",
        "# Get the top features using the plot_and_return_top_features function and your top model and tfidf vectorizer\n",
        "top_features = plot_and_return_top_features(tfidf_svc,tfidf_vectorizer)\n",
        "\n",
        "# pprint the top features\n",
        "pprint(top_features)"
      ]
    },
    {
      "metadata": {
        "run_control": {
          "frozen": true
        },
        "tags": [
          "context"
        ],
        "editable": false,
        "deletable": false,
        "dc": {
          "key": "53"
        },
        "id": "uQ3r356uX4jI"
      },
      "cell_type": "markdown",
      "source": [
        "## 8. Bonus: can you write a Trump or Trudeau tweet?\n",
        "<p>So, what did our model learn? It seems like it learned that Trudeau tweets in French!</p>\n",
        "<p>I challenge you to write your own tweet using the knowledge gained to trick the model! Use the printed list or plot above to make some inferences about what words will classify your text as Trump or Trudeau. Can you fool the model into thinking you are Trump or Trudeau?</p>\n",
        "<p>If you can write French, feel free to make your Trudeau-impersonation tweet in French! As you may have noticed, these French words are common words, or, \"stop words\". You could remove both English and French stop words from the tweets as a preprocessing step, but that might decrease the accuracy of the model because Trudeau is the only French-speaker in the group. If you had a dataset with more than one French speaker, this would be a useful preprocessing step.</p>\n",
        "<p>Future work on this dataset could involve:</p>\n",
        "<ul>\n",
        "<li>Add extra preprocessing (such as removing URLs or French stop words) and see the effects</li>\n",
        "<li>Use GridSearchCV to improve both your Bayesian and LinearSVC models by finding the optimal parameters</li>\n",
        "<li>Introspect your Bayesian model to determine what words are more Trump- or Trudeau- like</li>\n",
        "<li>Add more recent tweets to your dataset using tweepy and retrain</li>\n",
        "</ul>\n",
        "<p>Good luck writing your impersonation tweets -- feel free to share them on Twitter!</p>"
      ]
    },
    {
      "metadata": {
        "dc": {
          "key": "53"
        },
        "trusted": true,
        "tags": [
          "sample_code"
        ],
        "colab": {
          "base_uri": "https://localhost:8080/"
        },
        "id": "txXH0sZeX4jI",
        "outputId": "69c8ed1c-ea2a-41a9-a51b-5a1448b015e0"
      },
      "outputs": [
        {
          "output_type": "stream",
          "name": "stdout",
          "text": [
            "Predicted Trump tweet ['Donald J. Trump']\n",
            "Predicted Trudeau tweet ['Justin Trudeau']\n"
          ]
        }
      ],
      "execution_count": 24,
      "cell_type": "code",
      "source": [
        "# Write two tweets as strings, one which you want to classify as Trump and one as Trudeau\n",
        "trump_tweet = \"People of Panem we fight, we dare, we end our hunger for justice!\"\n",
        "trudeau_tweet = \"la canada rt et nous les du\"\n",
        "\n",
        "# Vectorize each tweet using the TF-IDF vectorizer's transform method\n",
        "# Note: `transform` needs the string in a list object (i.e. [trump_tweet])\n",
        "trump_tweet_vectorized = tfidf_vectorizer.transform([trump_tweet])\n",
        "trudeau_tweet_vectorized = tfidf_vectorizer.transform([trudeau_tweet])\n",
        "\n",
        "# Call the predict method on your vectorized tweets\n",
        "trump_tweet_pred = tfidf_svc.predict(trump_tweet_vectorized)\n",
        "trudeau_tweet_pred = tfidf_svc.predict(trudeau_tweet_vectorized)\n",
        "\n",
        "print(\"Predicted Trump tweet\", trump_tweet_pred)\n",
        "print(\"Predicted Trudeau tweet\", trudeau_tweet_pred)"
      ]
    }
  ],
  "nbformat": 4
}